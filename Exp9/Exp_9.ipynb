{
 "cells": [
  {
   "cell_type": "code",
   "execution_count": null,
   "metadata": {
    "colab": {
     "base_uri": "https://localhost:8080/"
    },
    "id": "pkdY7lI2xnqM",
    "outputId": "8d489b0d-ed5e-43e7-e4e4-47ee19171235"
   },
   "outputs": [],
   "source": [
    "pip install pgmpy"
   ]
  },
  {
   "cell_type": "code",
   "execution_count": null,
   "metadata": {
    "colab": {
     "base_uri": "https://localhost:8080/",
     "height": 224
    },
    "id": "am8uYEFT3qJP",
    "outputId": "7cd59418-507a-48f5-f4fb-ffcb0d30c1a0"
   },
   "outputs": [],
   "source": [
    "import numpy as np\n",
    "import pandas as pd\n",
    "from pgmpy.models import BayesianNetwork  # Use BayesianNetwork instead of BayesianModel\n",
    "from pgmpy.estimators import MaximumLikelihoodEstimator\n",
    "from pgmpy.inference import VariableElimination\n",
    "\n",
    "# Read Cleveland Heart Disease data\n",
    "heartDisease = pd.read_csv('heart.csv')\n",
    "heartDisease = heartDisease.replace('?', np.nan)\n",
    "heartDisease.rename(columns={'target': 'heartdisease'}, inplace=True)\n",
    "# Display the data\n",
    "print('Few examples from the dataset are given below')\n",
    "heartDisease.head()"
   ]
  },
  {
   "cell_type": "code",
   "execution_count": null,
   "metadata": {
    "id": "-4RRSOkZ-n3Z"
   },
   "outputs": [],
   "source": [
    "# Define the structure of the Bayesian Network\n",
    "model = BayesianNetwork([('age', 'trestbps'), ('age', 'fbs'),\n",
    "                         ('sex', 'trestbps'), ('exang', 'trestbps'),\n",
    "                         ('trestbps', 'heartdisease'), ('fbs', 'heartdisease'),\n",
    "                         ('heartdisease', 'restecg'), ('heartdisease', 'thalach'),\n",
    "                         ('heartdisease', 'chol')])\n",
    "\n",
    "# Learning CPDs using Maximum Likelihood Estimators\n",
    "print('\\nLearning CPD using Maximum likelihood estimators')\n",
    "model.fit(heartDisease, estimator=MaximumLikelihoodEstimator)\n",
    "\n",
    "# Inferencing with Bayesian Network\n",
    "print('\\nInferencing with Bayesian Network:')\n",
    "HeartDisease_infer = VariableElimination(model)\n",
    "\n",
    "# Computing the Probability of HeartDisease given Age=30\n",
    "print('\\n1. Probability of HeartDisease given Age=63')\n",
    "q = HeartDisease_infer.query(variables=['heartdisease'], evidence={'age': 63})\n",
    "print(q)\n",
    "\n",
    "# Computing the Probability of HeartDisease given cholesterol=100\n",
    "print('\\n2. Probability of HeartDisease given cholesterol=200')\n",
    "q = HeartDisease_infer.query(variables=['heartdisease'], evidence={'chol': 200})\n",
    "print(q)"
   ]
  },
  {
   "cell_type": "code",
   "execution_count": 3,
   "metadata": {
    "colab": {
     "base_uri": "https://localhost:8080/"
    },
    "id": "03qW2M095j2L",
    "outputId": "50a4782c-9635-4a1f-bad1-3e0d9084f8b4"
   },
   "outputs": [],
   "source": [
    "#print(model.get_cpds('age').state_names['age'])"
   ]
  }
 ],
 "metadata": {
  "colab": {
   "provenance": []
  },
  "kernelspec": {
   "display_name": "Python 3 (ipykernel)",
   "language": "python",
   "name": "python3"
  },
  "language_info": {
   "codemirror_mode": {
    "name": "ipython",
    "version": 3
   },
   "file_extension": ".py",
   "mimetype": "text/x-python",
   "name": "python",
   "nbconvert_exporter": "python",
   "pygments_lexer": "ipython3",
   "version": "3.11.7"
  }
 },
 "nbformat": 4,
 "nbformat_minor": 4
}
